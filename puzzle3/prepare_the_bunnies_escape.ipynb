{
 "cells": [
  {
   "cell_type": "code",
   "execution_count": 1,
   "metadata": {
    "collapsed": true
   },
   "outputs": [],
   "source": [
    "import sys\n",
    "from copy import deepcopy"
   ]
  },
  {
   "cell_type": "code",
   "execution_count": 2,
   "metadata": {
    "collapsed": false
   },
   "outputs": [],
   "source": [
    "a = [[0, 0, 0, 0, 0, 0],\n",
    "     [1, 1, 1, 1, 1, 0],\n",
    "     [0, 0, 0, 0, 0, 0],\n",
    "     [0, 1, 1, 1, 1, 1],\n",
    "     [0, 1, 1, 1, 1, 1], \n",
    "     [0, 0, 0, 0, 0, 0]]\n",
    "\n",
    "b = [[0, 0, 1, 0, 0, 0, 0, 0, 0, 0, 0, 0, 0, 0, 0, 0, 0, 0, 0, 0],\n",
    "     [1, 1, 0, 1, 1, 1, 1, 1, 1, 1, 1, 1, 1, 1, 1, 1, 1, 1, 1, 0],\n",
    "     [1, 1, 0, 0, 0, 0, 0, 0, 0, 0, 0, 0, 0, 0, 0, 0, 0, 0, 0, 0],\n",
    "     [1, 1, 1, 0, 0, 1, 1, 1, 1, 1, 1, 1, 1, 1, 1, 1, 1, 1, 1, 1],\n",
    "     [1, 1, 1, 1, 0, 0, 1, 1, 1, 1, 1, 1, 1, 1, 1, 1, 1, 1, 1, 0],\n",
    "     [1, 0, 0, 0, 0, 0, 0, 0, 0, 0, 0, 0, 0, 0, 0, 0, 0, 0, 0, 0],\n",
    "     [1, 1, 1, 1, 1, 1, 0, 1, 1, 1, 1, 1, 1, 1, 1, 1, 1, 1, 1, 0],\n",
    "     [0, 0, 0, 0, 0, 0, 0, 0, 0, 0, 0, 0, 0, 0, 0, 0, 0, 0, 0, 0],\n",
    "     [0, 1, 1, 1, 1, 1, 1, 0, 0, 1, 1, 1, 1, 1, 1, 1, 1, 1, 1, 1],\n",
    "     [0, 1, 1, 1, 1, 1, 1, 1, 0, 0, 1, 1, 1, 1, 1, 1, 1, 1, 1, 1],\n",
    "     [0, 0, 0, 0, 0, 0, 0, 0, 0, 0, 0, 0, 0, 0, 0, 0, 0, 0, 0, 0],\n",
    "     [1, 1, 1, 1, 1, 1, 1, 1, 1, 1, 0, 1, 1, 1, 1, 1, 1, 1, 1, 0],\n",
    "     [0, 0, 0, 0, 0, 0, 0, 0, 0, 0, 0, 0, 0, 0, 0, 0, 0, 0, 0, 0],\n",
    "     [0, 1, 1, 1, 1, 1, 1, 1, 1, 1, 0, 0, 1, 1, 1, 1, 1, 1, 1, 1],\n",
    "     [0, 1, 1, 1, 1, 1, 1, 1, 1, 1, 1, 0, 1, 1, 1, 1, 1, 1, 1, 1],\n",
    "     [0, 0, 0, 0, 0, 0, 0, 0, 0, 0, 0, 0, 0, 0, 0, 0, 0, 0, 0, 0],\n",
    "     [1, 1, 1, 1, 1, 1, 1, 1, 1, 1, 1, 1, 1, 0, 1, 1, 1, 1, 1, 0],\n",
    "     [0, 0, 0, 0, 0, 0, 0, 0, 0, 0, 0, 0, 0, 0, 0, 0, 0, 0, 0, 0],\n",
    "     [0, 1, 1, 1, 1, 1, 1, 1, 1, 1, 1, 1, 1, 1, 1, 1, 1, 1, 1, 0],\n",
    "     [0, 0, 0, 0, 0, 0, 0, 0, 0, 0, 0, 0, 0, 0, 0, 0, 0, 0, 0, 0]]"
   ]
  },
  {
   "cell_type": "code",
   "execution_count": 3,
   "metadata": {
    "collapsed": true
   },
   "outputs": [],
   "source": [
    "def changeWalls(matrix, current_wall, new_wall):\n",
    "    for li in range(len(matrix)):\n",
    "        for ci in range(len(matrix[0])):\n",
    "            if matrix[li][ci] == current_wall:\n",
    "                matrix[li][ci] = new_wall"
   ]
  },
  {
   "cell_type": "code",
   "execution_count": 4,
   "metadata": {
    "collapsed": false
   },
   "outputs": [],
   "source": [
    "def printMatrix(matrix):\n",
    "    for line in matrix:\n",
    "        for value in line:\n",
    "            print(value, end='  ')\n",
    "        print(\"\")"
   ]
  },
  {
   "cell_type": "code",
   "execution_count": 5,
   "metadata": {
    "collapsed": true
   },
   "outputs": [],
   "source": [
    "def verifyPossibleRemoval(matrix, line, column, wall):\n",
    "    count_free_pass = 0\n",
    "    if matrix[line][column] == wall:\n",
    "        for i, j in [(line-1, column), (line+1, column), (line, column-1), (line, column+1)]:\n",
    "            if  len(matrix) > i >= 0 and len(matrix[0]) > j >=0 and matrix[i][j] == 0:\n",
    "                count_free_pass += 1\n",
    "    return (False if count_free_pass < 2 else True)"
   ]
  },
  {
   "cell_type": "code",
   "execution_count": 6,
   "metadata": {
    "collapsed": false
   },
   "outputs": [],
   "source": [
    "def getWallsPosition(matrix, wall='x'):\n",
    "    walls_to_remove = list()\n",
    "    for li in range(len(matrix)):\n",
    "        for ci in range(len(matrix[0])):\n",
    "            if verifyPossibleRemoval(matrix, li, ci, wall):\n",
    "                walls_to_remove.append((li, ci))\n",
    "    return walls_to_remove"
   ]
  },
  {
   "cell_type": "code",
   "execution_count": 7,
   "metadata": {
    "collapsed": true
   },
   "outputs": [],
   "source": [
    "def add_neighbors(matrix, line, column, q):\n",
    "    index = [(line-1, column),  (line+1, column), (line, column-1), (line, column+1)]\n",
    "    for li, ci in index:\n",
    "        if 0 <= li < len(matrix) and \\\n",
    "            0 <= ci < len(matrix[0]) and \\\n",
    "            matrix[li][ci] == 0:  # add the index in the queue\n",
    "            matrix[li][ci] = matrix[line][column] + 1  # all neighbors will have the same distance\n",
    "            q.append((li, ci))"
   ]
  },
  {
   "cell_type": "code",
   "execution_count": 8,
   "metadata": {
    "collapsed": true
   },
   "outputs": [],
   "source": [
    "def bfs_search(matrix):\n",
    "    queue = list()\n",
    "    matrix[0][0] = 1\n",
    "    queue.append((0, 0))\n",
    "    while(len(queue) > 0):\n",
    "        line, column = queue.pop(0)\n",
    "        add_neighbors(matrix, line, column, queue)\n",
    "    return matrix[len(matrix)-1][len(matrix[0])-1]"
   ]
  },
  {
   "cell_type": "code",
   "execution_count": 26,
   "metadata": {
    "collapsed": true
   },
   "outputs": [],
   "source": [
    "def answer(maze):\n",
    "    changeWalls(maze, 1, 'x')\n",
    "    min_dis = sys.maxsize\n",
    "    positions = getWallsPosition(matrix=maze, wall='x')\n",
    "    for li, ci in positions:\n",
    "        matrix = deepcopy(maze)\n",
    "        matrix[li][ci] = 0\n",
    "        distance = bfs_search(matrix)\n",
    "        \n",
    "        min_dis = distance if distance < min_dis and distance != 0 else min_dis\n",
    "        #printMatrix(matrix)\n",
    "        maze[li][ci] = 'x'\n",
    "        #print()\n",
    "    return min_dis"
   ]
  },
  {
   "cell_type": "code",
   "execution_count": 27,
   "metadata": {
    "collapsed": false
   },
   "outputs": [
    {
     "data": {
      "text/plain": [
       "39"
      ]
     },
     "execution_count": 27,
     "metadata": {},
     "output_type": "execute_result"
    }
   ],
   "source": [
    "answer(b)"
   ]
  },
  {
   "cell_type": "code",
   "execution_count": null,
   "metadata": {
    "collapsed": true
   },
   "outputs": [],
   "source": []
  }
 ],
 "metadata": {
  "kernelspec": {
   "display_name": "Python 3",
   "language": "python",
   "name": "python3"
  },
  "language_info": {
   "codemirror_mode": {
    "name": "ipython",
    "version": 3
   },
   "file_extension": ".py",
   "mimetype": "text/x-python",
   "name": "python",
   "nbconvert_exporter": "python",
   "pygments_lexer": "ipython3",
   "version": "3.6.0"
  }
 },
 "nbformat": 4,
 "nbformat_minor": 2
}
